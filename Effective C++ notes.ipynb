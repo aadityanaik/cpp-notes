{
 "cells": [
  {
   "cell_type": "markdown",
   "metadata": {},
   "source": [
    "# Effective C++ Notes\n",
    "\n",
    "And so begin my notes primarily based on the Effective C++ books by Scott Meyers (and various other sources on the interwebs). This is in an attempt to improve how I write my C++ code (which I tend to write quite a bit of) and incorporate better (and hopefully safer and more readable). \n",
    "\n",
    "Also, pointers make me a bit nervous."
   ]
  },
  {
   "cell_type": "markdown",
   "metadata": {},
   "source": [
    "Let's go ahead and include all the libraries we need beforehand"
   ]
  },
  {
   "cell_type": "code",
   "execution_count": 1,
   "metadata": {},
   "outputs": [],
   "source": [
    "#include <iostream>"
   ]
  },
  {
   "cell_type": "markdown",
   "metadata": {},
   "source": [
    "### 1. Try not to use macro definitions\n",
    "\n",
    "C code often contains macro definitions for constants and expressions to make the code more readable and easier to use, and this is not uncommon in C++ code either. You can look up more about macros here- https://gcc.gnu.org/onlinedocs/cpp/Macros.html#Macros"
   ]
  },
  {
   "cell_type": "code",
   "execution_count": 2,
   "metadata": {},
   "outputs": [
    {
     "name": "stdout",
     "output_type": "stream",
     "text": [
      "The area of a circle with radius 3 is 28.26\n"
     ]
    }
   ],
   "source": [
    "#define PIE     3.14                    // You can now use PIE in place of 3.14 wherever the definition applies\n",
    "\n",
    "#define SQR(a)  ((a) * (a))             // You can now use SQR to find the square of a number a\n",
    "\n",
    "int radius = 3;\n",
    "double area = PIE * SQR(radius);\n",
    "\n",
    "std::cout << \"The area of a circle with radius \" << radius\n",
    "          << \" is \" << area << \"\\n\";"
   ]
  },
  {
   "cell_type": "markdown",
   "metadata": {},
   "source": [
    "However, there are some issues with macros, for which we need to understand how they work. Long story short, before the compiler compiles the code, a preprocessor takes a look at the code and replaces all occurances of macros with their values. For instance, running the above code with g++'s preprocessor yields the following:"
   ]
  },
  {
   "cell_type": "code",
   "execution_count": 3,
   "metadata": {},
   "outputs": [
    {
     "name": "stdout",
     "output_type": "stream",
     "text": [
      "int main() {\n",
      " int radius = 3;\n",
      " double area = 3.14 * ((radius) * (radius));\n",
      "\n",
      " std::cout << \"The area of a circle with radius \" << radius\n",
      "           << \" is \" << area;\n",
      "\n",
      " return 0;\n",
      "}\n"
     ]
    }
   ],
   "source": [
    "!gcc -E macro-example.cpp | sed -ne '/^int main() {$/,$ p' # This prints out preprocessed C++ code"
   ]
  },
  {
   "cell_type": "markdown",
   "metadata": {},
   "source": [
    "Because what preprocessors do is essentially replace the macro with the corresponding problem, it may lead to several issues. Primarily, depending on the compiler used, the macro symbol may not be tracked by the compiler and any compilation error involving `PIE` may end up referring to `3.14` rather than `PIE`. While this isn't a problem with modern compilers, it is still best to take this into consideration. A simple fix for this is to use `const double` as a global variable, or using the `static` keyword for class-specific constants which must be shared across all object instantiations."
   ]
  },
  {
   "cell_type": "code",
   "execution_count": 4,
   "metadata": {},
   "outputs": [],
   "source": [
    "const double GLOBAL_PIE = 3.14;"
   ]
  },
  {
   "cell_type": "code",
   "execution_count": 5,
   "metadata": {},
   "outputs": [],
   "source": [
    "class REAL_CONSTS {\n",
    "private:\n",
    "    static constexpr double CLASS_PIE = 3.14;\n",
    "};"
   ]
  },
  {
   "cell_type": "markdown",
   "metadata": {},
   "source": [
    "This also allows for exploiting other features of C++ like encapsulation, which are not available for macros.\n",
    "\n",
    "Macro functions tend to cause more substantial problems. For example, if the argument contains an increment operator like so:"
   ]
  },
  {
   "cell_type": "code",
   "execution_count": 6,
   "metadata": {},
   "outputs": [
    {
     "name": "stderr",
     "output_type": "stream",
     "text": [
      "\u001b[1minput_line_11:3:31: \u001b[0m\u001b[0;1;35mwarning: \u001b[0m\u001b[1mmultiple unsequenced modifications to 'radius' [-Wunsequenced]\u001b[0m\n",
      "double buggy_area = PIE * SQR(++radius);\n",
      "\u001b[0;1;32m                              ^~\n",
      "\u001b[0m\u001b[1minput_line_8:3:19: \u001b[0m\u001b[0;1;30mnote: \u001b[0mexpanded from macro 'SQR'\u001b[0m\n",
      "#define SQR(a)  ((a) * (a))             // You can now use SQR to find the square of a number a\n",
      "\u001b[0;1;32m                  ^     ~\n",
      "\u001b[0m"
     ]
    },
    {
     "name": "stdout",
     "output_type": "stream",
     "text": [
      "The area of a circle with radius 5 is 62.8\n"
     ]
    }
   ],
   "source": [
    "radius = 3;\n",
    "double buggy_area = PIE * SQR(++radius);\n",
    "\n",
    "std::cout << \"The area of a circle with radius \" << radius\n",
    "          << \" is \" << buggy_area << \"\\n\";"
   ]
  },
  {
   "cell_type": "markdown",
   "metadata": {},
   "source": [
    "The output should have been \"The area of a circle with radius 4 is 50.24\", but since the expansion of `SQR(++radius)` is `((++radius) * (++radius))`, `radius` gets incremented twice, which is why its value is `5` and the product is `3.14 * 4 * 5 = 62.8`."
   ]
  },
  {
   "cell_type": "code",
   "execution_count": 7,
   "metadata": {},
   "outputs": [
    {
     "name": "stdout",
     "output_type": "stream",
     "text": [
      "The area of a circle with radius 4 is 50.24\n"
     ]
    }
   ],
   "source": [
    "inline double SQR_FUN(double a) {\n",
    "    return a * a;\n",
    "}\n",
    "\n",
    "radius = 3;\n",
    "double correct_area = PIE * SQR_FUN(++radius);\n",
    "\n",
    "std::cout << \"The area of a circle with radius \" << radius\n",
    "          << \" is \" << correct_area << \"\\n\";"
   ]
  },
  {
   "cell_type": "code",
   "execution_count": null,
   "metadata": {},
   "outputs": [],
   "source": []
  }
 ],
 "metadata": {
  "kernelspec": {
   "display_name": "C++14",
   "language": "C++14",
   "name": "xcpp14"
  },
  "language_info": {
   "codemirror_mode": "text/x-c++src",
   "file_extension": ".cpp",
   "mimetype": "text/x-c++src",
   "name": "c++",
   "version": "14"
  }
 },
 "nbformat": 4,
 "nbformat_minor": 4
}
